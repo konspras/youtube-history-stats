{
 "cells": [
  {
   "cell_type": "code",
   "execution_count": null,
   "metadata": {},
   "outputs": [],
   "source": [
    "%reload_ext autoreload\n",
    "%autoreload 2\n",
    "%matplotlib inline\n",
    "import matplotlib\n",
    "import numpy as np\n",
    "import matplotlib.pyplot as plt\n",
    "from pprint import pprint\n",
    "from bs4 import BeautifulSoup\n",
    "from datetime import datetime\n",
    "from collections import OrderedDict"
   ]
  },
  {
   "cell_type": "code",
   "execution_count": null,
   "metadata": {},
   "outputs": [],
   "source": [
    "# Nov 17, 2021, 7:56:53 PM CET\n",
    "date_format = \"%b %d, %Y, %I:%M:%S %p %Z\"\n",
    "class VideoInfo:\n",
    "    def __init__(self, id, title, channel, date):\n",
    "        self.id = id\n",
    "        self.title = title\n",
    "        self.channel = channel\n",
    "        self.date = date\n",
    "\n",
    "    def __str__(self):\n",
    "        return f\"Video {self.id}: '{self.title}' from '{self.channel}', on {self.date}\""
   ]
  },
  {
   "cell_type": "code",
   "execution_count": null,
   "metadata": {},
   "outputs": [],
   "source": [
    "def load_html(filename):\n",
    "    soup=None\n",
    "    with open(filename) as f:\n",
    "        soup = BeautifulSoup(f, 'html.parser')\n",
    "    return soup"
   ]
  },
  {
   "cell_type": "code",
   "execution_count": null,
   "metadata": {},
   "outputs": [],
   "source": [
    "def column_chart(x_data, y_data, title, x_axis_title, y_axis_title):\n",
    "    fig = plt.figure(figsize=(20, 10))\n",
    "    # ax = fig.add_axes([0, 0, 1, 1])\n",
    "    plt.bar(x_data, y_data)\n",
    "    plt.xlabel(x_axis_title)\n",
    "    plt.ylabel(y_axis_title)\n",
    "    plt.title(title)\n",
    "    plt.show()"
   ]
  },
  {
   "cell_type": "code",
   "execution_count": null,
   "metadata": {},
   "outputs": [],
   "source": [
    "# May take a while - took 20 minutes for 25k videos\n",
    "# Find this file via google's takeout feature\n",
    "soup = load_html(\"data/watch-history.html\")"
   ]
  },
  {
   "cell_type": "code",
   "execution_count": null,
   "metadata": {},
   "outputs": [],
   "source": [
    "# Exceptional cases\n",
    "removed_video = \"Watched a video that has been removed\"\n",
    "# Music channels\n",
    "music_channel_ids = [\"- Topic\", \"VEVO\", \"Vevo\", \"Nensak\", \"Ultimate Powa\", \"FrightfulAccountant\", \"OzWho\", \"Orpheus\", \"Christina Proxenou\", \"Warner Classics\", \"Wolgadeutscher\", \"Nick Cave and the Bad Seeds\"]"
   ]
  },
  {
   "cell_type": "code",
   "execution_count": null,
   "metadata": {},
   "outputs": [],
   "source": [
    "def contains_any(word, candidate_words):\n",
    "    for cw in candidate_words:\n",
    "        if cw in word:\n",
    "            if \"BillieEilishVEVO\" == word:\n",
    "                print(\"---\")\n",
    "            return True\n",
    "    return False\n"
   ]
  },
  {
   "cell_type": "code",
   "execution_count": null,
   "metadata": {},
   "outputs": [],
   "source": [
    "def extract_watch_history(soup):\n",
    "    '''\n",
    "    Processes a watch history html file an returns a [VideoInfo] for videos and another for music\n",
    "    Note: absolute front-end noob\n",
    "    '''\n",
    "    videos = []\n",
    "    music_videos = []\n",
    "    total_entries = 0\n",
    "    videos_watched = 0\n",
    "    mvideos_watched = 0\n",
    "    unknown_videos = 0\n",
    "    just_date_videos = 0\n",
    "    non_youtube_videos = 0\n",
    "    for entity in soup.find_all(\"div\", {\"class\":\"content-cell mdl-cell mdl-cell--6-col mdl-typography--body-1\"}):\n",
    "        total_entries += 1\n",
    "        first_text = entity.getText(\"}{\").split(\"}{\")[0]\n",
    "        if \"Watched\" not in first_text:\n",
    "            non_youtube_videos += 1\n",
    "            assert first_text == \"Visited YouTube Music\"\n",
    "            continue\n",
    "        title = \"Unknown\"\n",
    "        channel = \"Unknown\"\n",
    "        date = \"Unknown\"\n",
    "        text_segments = len(entity.getText(\"}{\").split(\"}{\"))\n",
    "        if removed_video in first_text:\n",
    "            title = \"Removed\"\n",
    "            date = datetime.strptime(entity.getText(\"}{\").split(\"}{\")[-1], date_format)\n",
    "        elif text_segments == 5:\n",
    "            title = entity.a.getText()\n",
    "            channel = entity.a.find_next('a').getText()\n",
    "            date = datetime.strptime(entity.getText(\"}{\").split(\"}{\")[-1], date_format)\n",
    "        elif text_segments == 4:\n",
    "            title = entity.a.getText()\n",
    "            channel = entity.a.find_next('a').getText()\n",
    "            date = datetime.strptime(entity.getText(\"}{\").split(\"}{\")[-1], date_format)\n",
    "        elif text_segments == 3:\n",
    "            date = datetime.strptime(entity.getText(\"}{\").split(\"}{\")[-1], date_format)\n",
    "            just_date_videos += 1\n",
    "        else:\n",
    "            unknown_videos += 1\n",
    "            print(text_segments)\n",
    "            print(entity)\n",
    "            print(\"-----------------------------------------\")\n",
    "\n",
    "        if contains_any(channel, music_channel_ids):\n",
    "            music_videos.append(VideoInfo(mvideos_watched, title, channel, date))\n",
    "            mvideos_watched +=1\n",
    "        else:\n",
    "            videos.append(VideoInfo(videos_watched, title, channel, date))\n",
    "            videos_watched +=1\n",
    "        if (total_entries % 5000 == 0):\n",
    "            print(f\"Processed {total_entries} entries\")\n",
    "    print(f\"Watched {videos_watched} videos\")\n",
    "    print(f\"Watched {mvideos_watched} music videos\")\n",
    "    print(f\"Unknown videos {unknown_videos}/{total_entries}\")\n",
    "    print(f\"Just date videos {just_date_videos}/{total_entries}\")\n",
    "    print(f\"\\nNon-youtube {non_youtube_videos}/{total_entries}\")\n",
    "    return videos, music_videos"
   ]
  },
  {
   "cell_type": "code",
   "execution_count": null,
   "metadata": {},
   "outputs": [],
   "source": [
    "videos, music_videos = extract_watch_history(soup)"
   ]
  },
  {
   "cell_type": "code",
   "execution_count": null,
   "metadata": {},
   "outputs": [],
   "source": [
    "for i in range(5):\n",
    "    print(videos[i])\n",
    "print(f\"Watched {len(videos)} videos\")"
   ]
  },
  {
   "cell_type": "code",
   "execution_count": null,
   "metadata": {},
   "outputs": [],
   "source": [
    "def group_by(videos, attribute, time_interval=\"month\"):\n",
    "    '''\n",
    "    Returns a dictionary indexed by attribute\n",
    "    There is a better way to do this with Python 3.10\n",
    "    '''\n",
    "    ret = {}\n",
    "    for video in videos:\n",
    "        key = None\n",
    "        if attribute == \"title\":\n",
    "            key = video.title\n",
    "        elif attribute == \"channel\":\n",
    "            key = video.channel\n",
    "        elif attribute == \"date\":\n",
    "            if time_interval == \"month\":\n",
    "                key = datetime.strptime(video.date.strftime(\"%b.%Y\"), \"%b.%Y\")\n",
    "            else:\n",
    "                raise Exception(f\"Unsupported time_interval {time_interval}\")\n",
    "\n",
    "        else:\n",
    "            raise Exception(f\"Unknown attribute '{attribute}'\")\n",
    "        if key not in ret:\n",
    "            ret[key] = []\n",
    "        ret[key].append(video)\n",
    "    return ret\n",
    "        \n",
    "        "
   ]
  },
  {
   "cell_type": "code",
   "execution_count": null,
   "metadata": {},
   "outputs": [],
   "source": [
    "def count_by_key(dic, sort_by_value=True, ascending=False):\n",
    "    '''\n",
    "    dic: key -> [VideoInfo]\n",
    "    '''\n",
    "    ret = OrderedDict()\n",
    "    for key in dic:\n",
    "        ret[key] = len(dic[key])\n",
    "    sorting_key = 1\n",
    "    if not sort_by_value:\n",
    "        sorting_key = 0\n",
    "    rev = True\n",
    "    if ascending:\n",
    "        rev = False\n",
    "    ret = OrderedDict(sorted(ret.items(), key = lambda t: t[sorting_key], reverse=rev))\n",
    "    return ret"
   ]
  },
  {
   "cell_type": "markdown",
   "metadata": {},
   "source": [
    "### Per channel analysis"
   ]
  },
  {
   "cell_type": "code",
   "execution_count": null,
   "metadata": {},
   "outputs": [],
   "source": [
    "vids_by_channel = group_by(videos, \"channel\")\n",
    "vid_count_by_channel = count_by_key(vids_by_channel)\n",
    "print(f\"Channel count: {len(vid_count_by_channel)}\")"
   ]
  },
  {
   "cell_type": "code",
   "execution_count": null,
   "metadata": {},
   "outputs": [],
   "source": [
    "for channel in vid_count_by_channel:\n",
    "    print(f\"{channel}: {vid_count_by_channel[channel]}\")"
   ]
  },
  {
   "cell_type": "markdown",
   "metadata": {},
   "source": [
    "### Per Video Analysis"
   ]
  },
  {
   "cell_type": "code",
   "execution_count": null,
   "metadata": {},
   "outputs": [],
   "source": [
    "vids_by_title = group_by(videos, \"title\")\n",
    "vid_count_by_title = count_by_key(vids_by_title)\n",
    "print(f\"Unique video count: {len(vid_count_by_title)}\")"
   ]
  },
  {
   "cell_type": "code",
   "execution_count": null,
   "metadata": {},
   "outputs": [],
   "source": [
    "for title in vid_count_by_title:\n",
    "    print(f\"{title}: {vid_count_by_title[title]}\")"
   ]
  },
  {
   "cell_type": "markdown",
   "metadata": {},
   "source": [
    "### Per Month Analysis"
   ]
  },
  {
   "cell_type": "code",
   "execution_count": null,
   "metadata": {},
   "outputs": [],
   "source": [
    "vids_by_month = group_by(videos, \"date\")\n",
    "vid_count_by_month = count_by_key(vids_by_month, sort_by_value=False, ascending=True)\n",
    "tmp = OrderedDict()\n",
    "for key in vid_count_by_month:\n",
    "    tmp[key.strftime(\"%b.%Y\")] = vid_count_by_month[key]\n",
    "vid_count_by_month = tmp\n",
    "print(f\"Number of months considered: {len(vid_count_by_month)}\")"
   ]
  },
  {
   "cell_type": "code",
   "execution_count": null,
   "metadata": {},
   "outputs": [],
   "source": [
    "for month in vid_count_by_month:\n",
    "    print(f\"{month}: {vid_count_by_month[month]}\")"
   ]
  },
  {
   "cell_type": "code",
   "execution_count": null,
   "metadata": {},
   "outputs": [],
   "source": [
    "column_chart(vid_count_by_month.keys(), vid_count_by_month.values(), \"Videos watched by month\", \"Month\", \"Video Count\")"
   ]
  },
  {
   "cell_type": "code",
   "execution_count": null,
   "metadata": {},
   "outputs": [],
   "source": []
  }
 ],
 "metadata": {
  "interpreter": {
   "hash": "6971b7cae49d278f561c5dbd571a6d202ac06177e751d03377fd4c6384df7bbf"
  },
  "kernelspec": {
   "display_name": "Python 3.8.5 64-bit ('base': conda)",
   "language": "python",
   "name": "python3"
  },
  "language_info": {
   "codemirror_mode": {
    "name": "ipython",
    "version": 3
   },
   "file_extension": ".py",
   "mimetype": "text/x-python",
   "name": "python",
   "nbconvert_exporter": "python",
   "pygments_lexer": "ipython3",
   "version": "3.8.5"
  }
 },
 "nbformat": 4,
 "nbformat_minor": 4
}
