{
 "cells": [
  {
   "cell_type": "code",
   "execution_count": null,
   "metadata": {},
   "outputs": [],
   "source": [
    "from pprint import pprint\n",
    "from bs4 import BeautifulSoup\n",
    "from datetime import datetime\n",
    "from collections import OrderedDict"
   ]
  },
  {
   "cell_type": "code",
   "execution_count": null,
   "metadata": {},
   "outputs": [],
   "source": [
    "# Nov 17, 2021, 7:56:53 PM CET\n",
    "date_format = \"%b %d, %Y, %I:%M:%S %p %Z\"\n",
    "class VideoInfo:\n",
    "    def __init__(self, id, title, channel, date):\n",
    "        self.id = id\n",
    "        self.title = title\n",
    "        self.channel = channel\n",
    "        self.date = date\n",
    "\n",
    "    def __str__(self):\n",
    "        return f\"Video {self.id}: '{self.title}' from '{self.channel}', on {self.date}\""
   ]
  },
  {
   "cell_type": "code",
   "execution_count": null,
   "metadata": {},
   "outputs": [],
   "source": [
    "def load_html(filename):\n",
    "    soup=None\n",
    "    with open(filename) as f:\n",
    "        soup = BeautifulSoup(f, 'html.parser')\n",
    "    return soup"
   ]
  },
  {
   "cell_type": "code",
   "execution_count": null,
   "metadata": {},
   "outputs": [],
   "source": [
    "# May take a while\n",
    "# Find this file via google's takeout feature\n",
    "soup = load_html(\"data/watch-history.html\")"
   ]
  },
  {
   "cell_type": "code",
   "execution_count": null,
   "metadata": {},
   "outputs": [],
   "source": [
    "# Exceptional cases\n",
    "removed_video = \"Watched a video that has been removed\""
   ]
  },
  {
   "cell_type": "code",
   "execution_count": null,
   "metadata": {},
   "outputs": [],
   "source": [
    "def extract_watch_history(soup):\n",
    "    '''\n",
    "    Processes a watch history html file an returns a [VideoInfo]\n",
    "    Note: absolute front-end noob\n",
    "    '''\n",
    "    videos = []\n",
    "    videos_watched = 0\n",
    "    for entity in soup.find_all(\"div\", {\"class\":\"content-cell mdl-cell mdl-cell--6-col mdl-typography--body-1\"}):\n",
    "        first_text = entity.getText(\"|\").split(\"|\")[0]\n",
    "        if \"Watched\" not in first_text:\n",
    "            continue\n",
    "        title = \"Unknown\"\n",
    "        channel = \"Unknown\"\n",
    "        date = \"Unknown\"\n",
    "        text_segments = len(entity.getText(\"|\").split(\"|\"))\n",
    "#         if videos_watched > 25000:\n",
    "#             print(entity)\n",
    "#             print(\"-----------------------------------------\")\n",
    "        if removed_video in first_text:\n",
    "            title = \"Removed\"\n",
    "            date = datetime.strptime(entity.getText(\"|\").split(\"|\")[1], date_format)\n",
    "        elif text_segments == 4:\n",
    "            title = entity.a.getText()\n",
    "            channel = entity.a.find_next('a').getText()\n",
    "            date = datetime.strptime(entity.getText(\"|\").split(\"|\")[-1], date_format)\n",
    "\n",
    "        videos.append(VideoInfo(videos_watched, title, channel, date))\n",
    "        videos_watched +=1\n",
    "        if (videos_watched % 5000 == 0):\n",
    "            print(f\"Processed {videos_watched} videos\")\n",
    "    return videos"
   ]
  },
  {
   "cell_type": "code",
   "execution_count": null,
   "metadata": {},
   "outputs": [],
   "source": [
    "videos = extract_watch_history(soup)"
   ]
  },
  {
   "cell_type": "code",
   "execution_count": null,
   "metadata": {},
   "outputs": [],
   "source": [
    "for i in range(10):\n",
    "    print(videos[i])\n",
    "print(videos[23000])\n",
    "print(f\"Watched {len(videos)} videos\")"
   ]
  },
  {
   "cell_type": "code",
   "execution_count": null,
   "metadata": {},
   "outputs": [],
   "source": [
    "def group_by(videos, attribute):\n",
    "    '''\n",
    "    Returns a dictionary indexed by attribute\n",
    "    There is a better way to do this with Python 3.10\n",
    "    '''\n",
    "    ret = {}\n",
    "    for video in videos:\n",
    "        key = None\n",
    "        if attribute == \"title\":\n",
    "            key = video.title\n",
    "        elif attribute == \"channel\":\n",
    "            key = video.channel\n",
    "        elif attribute == \"date\":\n",
    "            key = video.date\n",
    "        else:\n",
    "            raise Exception(f\"Unknown attribute '{attribute}'\")\n",
    "        if key not in ret:\n",
    "            ret[key] = []\n",
    "        ret[key].append(video)\n",
    "    return ret\n",
    "        \n",
    "        "
   ]
  },
  {
   "cell_type": "code",
   "execution_count": null,
   "metadata": {},
   "outputs": [],
   "source": [
    "def count_by_key(dic):\n",
    "    '''\n",
    "    dic: key -> [VideoInfo]\n",
    "    '''\n",
    "    ret = OrderedDict()\n",
    "    for key in dic:\n",
    "        ret[key] = len(dic[key])\n",
    "    ret = OrderedDict(sorted(ret.items(), key = lambda t: t[1], reverse=True))\n",
    "    print(type(ret))\n",
    "    return ret"
   ]
  },
  {
   "cell_type": "code",
   "execution_count": null,
   "metadata": {},
   "outputs": [],
   "source": [
    "vids_by_channel = group_by(videos, \"channel\")\n",
    "vid_count_by_channel = count_by_key(vids_by_channel)"
   ]
  },
  {
   "cell_type": "code",
   "execution_count": null,
   "metadata": {},
   "outputs": [],
   "source": [
    "print(f\"Channel count: {len(vid_count_by_channel)}\")"
   ]
  },
  {
   "cell_type": "code",
   "execution_count": null,
   "metadata": {},
   "outputs": [],
   "source": [
    "for key in vid_count_by_channel:\n",
    "    print(key, vid_count_by_channel[key])"
   ]
  },
  {
   "cell_type": "code",
   "execution_count": null,
   "metadata": {},
   "outputs": [],
   "source": []
  }
 ],
 "metadata": {
  "kernelspec": {
   "display_name": "Python 3.8.5 64-bit ('base': conda)",
   "language": "python",
   "name": "python38564bitbaseconda59ad54c8a473433aa130d67a95341495"
  },
  "language_info": {
   "codemirror_mode": {
    "name": "ipython",
    "version": 3
   },
   "file_extension": ".py",
   "mimetype": "text/x-python",
   "name": "python",
   "nbconvert_exporter": "python",
   "pygments_lexer": "ipython3",
   "version": "3.8.5"
  }
 },
 "nbformat": 4,
 "nbformat_minor": 4
}
